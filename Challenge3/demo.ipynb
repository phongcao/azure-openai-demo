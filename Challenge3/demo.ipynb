{
 "cells": [
  {
   "cell_type": "code",
   "execution_count": null,
   "metadata": {},
   "outputs": [],
   "source": [
    "# Note: The openai-python library support for Azure OpenAI is in preview.\n",
    "\n",
    "import os\n",
    "import openai\n",
    "\n",
    "openai.api_type = \"azure\"\n",
    "openai.api_base = os.getenv(\"OPENAI_API_ENDPOINT\")\n",
    "openai.api_version = \"2022-12-01\"\n",
    "openai.api_key = os.getenv(\"OPENAI_API_KEY\")"
   ]
  },
  {
   "cell_type": "code",
   "execution_count": null,
   "metadata": {},
   "outputs": [],
   "source": [
    "# Challenge 1\n",
    "\n",
    "response = openai.Completion.create(\n",
    "  engine=\"textdavinci003\",\n",
    "  prompt=\"Provide a summary of the text below and focus on the technical details.\\n\\nI recently purchased the 18 inch LED desktop monitor and I am extremely satisfied with my purchase. The screen clarity is exceptional and the colors are vibrant and true to life. The monitor is perfect for both work and entertainment purposes, as it provides a clear and crisp display for all types of content. The delivery of the monitor was prompt and hassle-free. The packaging was secure and protected the monitor from any damage during transit. The installation support provided by the manufacturer was also excellent. The instructions were clear and easy to follow, and I was able to set up the monitor in no time.\",\n",
    "  temperature=0.3,\n",
    "  max_tokens=250,\n",
    "  top_p=1,\n",
    "  frequency_penalty=0,\n",
    "  presence_penalty=0,\n",
    "  best_of=1,\n",
    "  stop=None)\n",
    "\n",
    "print(response.choices[0].text)"
   ]
  }
 ],
 "metadata": {
  "kernelspec": {
   "display_name": "Python 3",
   "language": "python",
   "name": "python3"
  },
  "language_info": {
   "codemirror_mode": {
    "name": "ipython",
    "version": 3
   },
   "file_extension": ".py",
   "mimetype": "text/x-python",
   "name": "python",
   "nbconvert_exporter": "python",
   "pygments_lexer": "ipython3",
   "version": "3.11.2"
  },
  "orig_nbformat": 4
 },
 "nbformat": 4,
 "nbformat_minor": 2
}
