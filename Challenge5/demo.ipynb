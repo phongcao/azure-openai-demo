{
 "cells": [
  {
   "cell_type": "code",
   "execution_count": null,
   "metadata": {},
   "outputs": [],
   "source": [
    "%pip install openai openai\"[embeddings]\""
   ]
  },
  {
   "cell_type": "code",
   "execution_count": 57,
   "metadata": {},
   "outputs": [],
   "source": [
    "# OpenAI Settings\n",
    "\n",
    "import os\n",
    "import openai\n",
    "\n",
    "openai.api_type = \"azure\"\n",
    "openai.api_base = os.getenv(\"OPENAI_API_ENDPOINT\")\n",
    "openai.api_version = \"2023-03-15-preview\"\n",
    "openai.api_key = os.getenv(\"OPENAI_API_KEY\")"
   ]
  },
  {
   "cell_type": "code",
   "execution_count": 58,
   "metadata": {},
   "outputs": [
    {
     "data": {
      "text/html": [
       "<div>\n",
       "<style scoped>\n",
       "    .dataframe tbody tr th:only-of-type {\n",
       "        vertical-align: middle;\n",
       "    }\n",
       "\n",
       "    .dataframe tbody tr th {\n",
       "        vertical-align: top;\n",
       "    }\n",
       "\n",
       "    .dataframe thead th {\n",
       "        text-align: right;\n",
       "    }\n",
       "</style>\n",
       "<table border=\"1\" class=\"dataframe\">\n",
       "  <thead>\n",
       "    <tr style=\"text-align: right;\">\n",
       "      <th></th>\n",
       "      <th>Question</th>\n",
       "      <th>Answer</th>\n",
       "      <th>Combined</th>\n",
       "    </tr>\n",
       "  </thead>\n",
       "  <tbody>\n",
       "    <tr>\n",
       "      <th>0</th>\n",
       "      <td>How can I order</td>\n",
       "      <td>You can order easily using our online platfor...</td>\n",
       "      <td>Question: How can I order; Answer: You can ord...</td>\n",
       "    </tr>\n",
       "    <tr>\n",
       "      <th>1</th>\n",
       "      <td>Why should I buy online?</td>\n",
       "      <td>Speeding up the process. By ordering online yo...</td>\n",
       "      <td>Question: Why should I buy online?; Answer: Sp...</td>\n",
       "    </tr>\n",
       "  </tbody>\n",
       "</table>\n",
       "</div>"
      ],
      "text/plain": [
       "                   Question  \\\n",
       "0           How can I order   \n",
       "1  Why should I buy online?   \n",
       "\n",
       "                                              Answer  \\\n",
       "0   You can order easily using our online platfor...   \n",
       "1  Speeding up the process. By ordering online yo...   \n",
       "\n",
       "                                            Combined  \n",
       "0  Question: How can I order; Answer: You can ord...  \n",
       "1  Question: Why should I buy online?; Answer: Sp...  "
      ]
     },
     "execution_count": 58,
     "metadata": {},
     "output_type": "execute_result"
    }
   ],
   "source": [
    "# Load dataset\n",
    "\n",
    "import pandas as pd\n",
    "\n",
    "input_datapath = \"data/Sample-Faq.csv\"\n",
    "df = pd.read_csv(input_datapath)\n",
    "\n",
    "\n",
    "df[\"Combined\"] = (\n",
    "    \"Question: \" + df.Question.str.strip() + \"; Answer: \" + df.Answer.str.strip()\n",
    ")\n",
    "\n",
    "df.head(2)"
   ]
  },
  {
   "cell_type": "code",
   "execution_count": 59,
   "metadata": {},
   "outputs": [
    {
     "data": {
      "text/html": [
       "<div>\n",
       "<style scoped>\n",
       "    .dataframe tbody tr th:only-of-type {\n",
       "        vertical-align: middle;\n",
       "    }\n",
       "\n",
       "    .dataframe tbody tr th {\n",
       "        vertical-align: top;\n",
       "    }\n",
       "\n",
       "    .dataframe thead th {\n",
       "        text-align: right;\n",
       "    }\n",
       "</style>\n",
       "<table border=\"1\" class=\"dataframe\">\n",
       "  <thead>\n",
       "    <tr style=\"text-align: right;\">\n",
       "      <th></th>\n",
       "      <th>Question</th>\n",
       "      <th>Answer</th>\n",
       "      <th>Combined</th>\n",
       "      <th>Embedding</th>\n",
       "    </tr>\n",
       "  </thead>\n",
       "  <tbody>\n",
       "    <tr>\n",
       "      <th>0</th>\n",
       "      <td>How can I order</td>\n",
       "      <td>You can order easily using our online platfor...</td>\n",
       "      <td>Question: How can I order; Answer: You can ord...</td>\n",
       "      <td>[0.008618628606200218, -0.012366986833512783, ...</td>\n",
       "    </tr>\n",
       "    <tr>\n",
       "      <th>1</th>\n",
       "      <td>Why should I buy online?</td>\n",
       "      <td>Speeding up the process. By ordering online yo...</td>\n",
       "      <td>Question: Why should I buy online?; Answer: Sp...</td>\n",
       "      <td>[-0.0024808107409626245, -0.00058461056323722,...</td>\n",
       "    </tr>\n",
       "  </tbody>\n",
       "</table>\n",
       "</div>"
      ],
      "text/plain": [
       "                   Question  \\\n",
       "0           How can I order   \n",
       "1  Why should I buy online?   \n",
       "\n",
       "                                              Answer  \\\n",
       "0   You can order easily using our online platfor...   \n",
       "1  Speeding up the process. By ordering online yo...   \n",
       "\n",
       "                                            Combined  \\\n",
       "0  Question: How can I order; Answer: You can ord...   \n",
       "1  Question: Why should I buy online?; Answer: Sp...   \n",
       "\n",
       "                                           Embedding  \n",
       "0  [0.008618628606200218, -0.012366986833512783, ...  \n",
       "1  [-0.0024808107409626245, -0.00058461056323722,...  "
      ]
     },
     "execution_count": 59,
     "metadata": {},
     "output_type": "execute_result"
    }
   ],
   "source": [
    "# Query Embeddings\n",
    "\n",
    "from openai.embeddings_utils import get_embedding\n",
    "\n",
    "df[\"Embedding\"] = df.Combined.apply(\n",
    "    lambda x: get_embedding(x, engine=\"textembeddingada002\")\n",
    ")\n",
    "df.to_csv(\"data/Sample-Faq-Embeddings.csv\")\n",
    "\n",
    "df.head(2)"
   ]
  }
 ],
 "metadata": {
  "kernelspec": {
   "display_name": "Python 3",
   "language": "python",
   "name": "python3"
  },
  "language_info": {
   "codemirror_mode": {
    "name": "ipython",
    "version": 3
   },
   "file_extension": ".py",
   "mimetype": "text/x-python",
   "name": "python",
   "nbconvert_exporter": "python",
   "pygments_lexer": "ipython3",
   "version": "3.9.6"
  },
  "orig_nbformat": 4
 },
 "nbformat": 4,
 "nbformat_minor": 2
}
