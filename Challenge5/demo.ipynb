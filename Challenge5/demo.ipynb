{
 "cells": [
  {
   "cell_type": "code",
   "execution_count": null,
   "metadata": {},
   "outputs": [],
   "source": [
    "%pip install openai langchain google-api-python-client"
   ]
  },
  {
   "cell_type": "code",
   "execution_count": 5,
   "metadata": {},
   "outputs": [],
   "source": [
    "# LangChain Settings\n",
    "\n",
    "from langchain.agents import AgentType, initialize_agent, load_tools\n",
    "from langchain.llms import AzureOpenAI\n",
    "\n",
    "# The language model we're going to use to control the agent.\n",
    "llm = AzureOpenAI(temperature=0.9, deployment_name=\"textdavinci003\")\n",
    "\n",
    "# The tools we'll give the Agent access to. Note that the 'llm-math' tool uses an LLM, so we need to pass that in.\n",
    "tools = load_tools([\"google-search\", \"llm-math\"], llm=llm)\n",
    "\n",
    "# Finally, let's initialize an agent with the tools, the language model, and the type of agent we want to use.\n",
    "agent = initialize_agent(\n",
    "    tools, llm, agent=AgentType.ZERO_SHOT_REACT_DESCRIPTION, verbose=True\n",
    ")"
   ]
  },
  {
   "cell_type": "code",
   "execution_count": 6,
   "metadata": {},
   "outputs": [
    {
     "name": "stdout",
     "output_type": "stream",
     "text": [
      "\n",
      "\n",
      "\u001b[1m> Entering new  chain...\u001b[0m\n",
      "\u001b[32;1m\u001b[1;3m I will need to use google search to find out the temperature and then use a calculator to compute the final answer.\n",
      "Action: google_search\n",
      "Action Input: High temperature in SF yesterday\u001b[0m\n",
      "Observation: \u001b[36;1m\u001b[1;3mWeather reports from the last weeks in San Francisco with highs and lows. High: 69.8ºf @12:00 PM Low: 57.2ºf @4:10 AM Approx. Precipitation / Rain Total: in. Time (PDT), Temp. (ºf), Humidity (%), Dew Point ( ... San Francisco Weather Forecasts. ... Almanac for June 18, 2023. Forecast. Average *. Record. Temperature. High. 67 °F. 72 °F. 91 °F. Low. 54 °F. 54 °F. Sep 6, 2022 ... Bay Area heat wave: More cities break all-time high temps Tuesday ... recorded an astounding 116 degrees, which it also recorded yesterday. Sep 6, 2022 ... \"Early morning temperatures in the East Bay and higher terrain are running 5 to 10 degrees higher today than they were yesterday,\" Brooke ... Jun 11, 2019 ... San Francisco International Airport yesterday reached its highest temperature ever recorded in the month of June: 100 degrees. Sep 5, 2022 ... In Livermore, the temperature was recorded at 116 degrees - the highest mark the National Weather Service Bay Area has ever recorded in any ... Sep 6, 2022 ... “After record-shattering heat yesterday, today's temperatures are likely ... Area will be found in Walnut Creek and Danville, with a high of ... Sep 5, 2022 ... 8. Thursday was a record-breaking day for some parts of the Bay Area, with several daily high temperature records. Here's a look at the forecast ... Sep 5, 2022 ... Two Bay Area cities recorded the highest-ever temperature in the region. What's behind the sizzling temperatures? It's called a heat dome: an ...\u001b[0m\n",
      "Thought:\u001b[32;1m\u001b[1;3m I can use the highest temperature, 69.8ºf, to calculate the answer\n",
      "Action: Calculator\n",
      "Action Input: 69.8^.023\u001b[0m\n",
      "Observation: \u001b[33;1m\u001b[1;3mAnswer: 1.1025763550530143\u001b[0m\n",
      "Thought:\u001b[32;1m\u001b[1;3m I now know the final answer\n",
      "Final Answer: The temperature in SF yesterday raised to the .023 power is 1.1025763550530143.\u001b[0m\n",
      "\n",
      "\u001b[1m> Finished chain.\u001b[0m\n"
     ]
    },
    {
     "data": {
      "text/plain": [
       "'The temperature in SF yesterday raised to the .023 power is 1.1025763550530143.'"
      ]
     },
     "execution_count": 6,
     "metadata": {},
     "output_type": "execute_result"
    }
   ],
   "source": [
    "agent.run(\n",
    "    \"What was the high temperature in SF yesterday in Fahrenheit? What is that number raised to the .023 power?\"\n",
    ")"
   ]
  }
 ],
 "metadata": {
  "kernelspec": {
   "display_name": "Python 3",
   "language": "python",
   "name": "python3"
  },
  "language_info": {
   "codemirror_mode": {
    "name": "ipython",
    "version": 3
   },
   "file_extension": ".py",
   "mimetype": "text/x-python",
   "name": "python",
   "nbconvert_exporter": "python",
   "pygments_lexer": "ipython3",
   "version": "3.11.2"
  },
  "orig_nbformat": 4
 },
 "nbformat": 4,
 "nbformat_minor": 2
}
