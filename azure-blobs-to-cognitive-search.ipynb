{
 "cells": [
  {
   "cell_type": "code",
   "execution_count": null,
   "metadata": {},
   "outputs": [],
   "source": [
    "%pip install --upgrade numpy openai langchain azure-storage-blob azure-identity unstructured\n",
    "%pip install --index-url=https://pkgs.dev.azure.com/azure-sdk/public/_packaging/azure-sdk-for-python/pypi/simple/ azure-search-documents==11.4.0a20230509004"
   ]
  },
  {
   "cell_type": "code",
   "execution_count": null,
   "metadata": {},
   "outputs": [],
   "source": [
    "# Mac OS: Requires libmagic installation via homebrew\n",
    "# %brew install libmagic"
   ]
  },
  {
   "cell_type": "code",
   "execution_count": 1,
   "metadata": {},
   "outputs": [],
   "source": [
    "# Reading blobs from Azure Storage Account\n",
    "\n",
    "import os\n",
    "\n",
    "from langchain.document_loaders import AzureBlobStorageContainerLoader\n",
    "\n",
    "\n",
    "loader = AzureBlobStorageContainerLoader(\n",
    "    conn_str=os.getenv(\"AZURE_STORAGE_ACCOUNT_CONNECTION_STRING\"),\n",
    "    container=os.getenv(\"AZURE_STORAGE_CONTAINER_NAME\"),\n",
    ")\n",
    "\n",
    "# Load and split blobs into chunks\n",
    "pages = loader.load_and_split()"
   ]
  },
  {
   "cell_type": "code",
   "execution_count": null,
   "metadata": {},
   "outputs": [],
   "source": [
    "# Insert text and embeddings into Azure Cognitive Search\n",
    "\n",
    "from openai.embeddings_utils import get_embedding\n",
    "from langchain.vectorstores.azuresearch import AzureSearch\n",
    "\n",
    "\n",
    "def embeddings(text):\n",
    "    return get_embedding(text, engine=\"embedding-ada\")\n",
    "\n",
    "\n",
    "# Make sure to create index first:\n",
    "# https://github.com/Azure/cognitive-search-vector-pr/blob/main/docs/rest-api-reference/create-or-update-index.md\n",
    "vector_store: AzureSearch = AzureSearch(\n",
    "    azure_search_endpoint=os.getenv(\"AZURE_SEARCH_ENDPOINT\"),\n",
    "    azure_search_key=os.getenv(\"AZURE_SEARCH_API_KEY\"),\n",
    "    index_name=os.getenv(\"AZURE_SEARCH_INDEX_NAME\"),\n",
    "    embedding_function=embeddings,\n",
    ")\n",
    "\n",
    "vector_store.add_documents(documents=pages)"
   ]
  },
  {
   "cell_type": "code",
   "execution_count": null,
   "metadata": {},
   "outputs": [],
   "source": [
    "# Perform a similarity search\n",
    "\n",
    "docs = vector_store.similarity_search(\n",
    "    query=\"How to become a champion\",\n",
    "    k=3,\n",
    "    search_type=\"similarity\",\n",
    ")\n",
    "\n",
    "print(docs[0].page_content)"
   ]
  }
 ],
 "metadata": {
  "kernelspec": {
   "display_name": "Python 3",
   "language": "python",
   "name": "python3"
  },
  "language_info": {
   "codemirror_mode": {
    "name": "ipython",
    "version": 3
   },
   "file_extension": ".py",
   "mimetype": "text/x-python",
   "name": "python",
   "nbconvert_exporter": "python",
   "pygments_lexer": "ipython3",
   "version": "3.11.2"
  },
  "orig_nbformat": 4
 },
 "nbformat": 4,
 "nbformat_minor": 2
}
