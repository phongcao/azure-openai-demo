{
 "cells": [
  {
   "cell_type": "code",
   "execution_count": 1,
   "metadata": {},
   "outputs": [],
   "source": [
    "# Note: The openai-python library support for Azure OpenAI is in preview.\n",
    "\n",
    "import os\n",
    "import openai\n",
    "\n",
    "openai.api_type = \"azure\"\n",
    "openai.api_base = os.getenv(\"OPENAI_API_ENDPOINT\")\n",
    "openai.api_version = \"2022-12-01\"\n",
    "openai.api_key = os.getenv(\"OPENAI_API_KEY\")"
   ]
  },
  {
   "cell_type": "code",
   "execution_count": 2,
   "metadata": {},
   "outputs": [
    {
     "name": "stdout",
     "output_type": "stream",
     "text": [
      "\n",
      "\n",
      "This 18 inch LED desktop monitor is an excellent purchase for both work and entertainment purposes. It provides a clear and crisp display with vibrant and true to life colors. Delivery was prompt and hassle-free, and the packaging was secure and protected the monitor from any damage during transit. The installation support provided by the manufacturer was also excellent, with clear and easy to follow instructions.\n"
     ]
    }
   ],
   "source": [
    "# Challenge 1A\n",
    "\n",
    "response = openai.Completion.create(\n",
    "  engine=\"textdavinci003\",\n",
    "  prompt=\"Provide a summary of the text below and focus on the technical details.\\n\\nI recently purchased the 18 inch LED desktop monitor and I am extremely satisfied with my purchase. The screen clarity is exceptional and the colors are vibrant and true to life. The monitor is perfect for both work and entertainment purposes, as it provides a clear and crisp display for all types of content. The delivery of the monitor was prompt and hassle-free. The packaging was secure and protected the monitor from any damage during transit. The installation support provided by the manufacturer was also excellent. The instructions were clear and easy to follow, and I was able to set up the monitor in no time.\",\n",
    "  temperature=0.3,\n",
    "  max_tokens=250,\n",
    "  top_p=1,\n",
    "  frequency_penalty=0,\n",
    "  presence_penalty=0,\n",
    "  best_of=1,\n",
    "  stop=None)\n",
    "\n",
    "print(response.choices[0].text)"
   ]
  },
  {
   "cell_type": "code",
   "execution_count": 3,
   "metadata": {},
   "outputs": [
    {
     "name": "stdout",
     "output_type": "stream",
     "text": [
      "\n",
      "\n",
      "This text describes a positive experience with the delivery of an 18 inch LED desktop monitor. The delivery was prompt and hassle-free, with secure packaging that protected the monitor from any damage during transit. The installation support provided by the manufacturer was also excellent, with clear and easy to follow instructions that allowed the customer to set up the monitor quickly.\n"
     ]
    }
   ],
   "source": [
    "# Challenge 2A\n",
    "\n",
    "response = openai.Completion.create(\n",
    "  engine=\"textdavinci003\",\n",
    "  prompt=\"Provide a summary of the text below and focus on the delivery experiences.\\n\\nI recently purchased the 18 inch LED desktop monitor and I am extremely satisfied with my purchase. The screen clarity is exceptional and the colors are vibrant and true to life. The monitor is perfect for both work and entertainment purposes, as it provides a clear and crisp display for all types of content. The delivery of the monitor was prompt and hassle-free. The packaging was secure and protected the monitor from any damage during transit. The installation support provided by the manufacturer was also excellent. The instructions were clear and easy to follow, and I was able to set up the monitor in no time.\",\n",
    "  temperature=0.3,\n",
    "  max_tokens=250,\n",
    "  top_p=1,\n",
    "  frequency_penalty=0,\n",
    "  presence_penalty=0,\n",
    "  best_of=1,\n",
    "  stop=None)\n",
    "\n",
    "print(response.choices[0].text)"
   ]
  },
  {
   "cell_type": "code",
   "execution_count": 4,
   "metadata": {},
   "outputs": [
    {
     "name": "stdout",
     "output_type": "stream",
     "text": [
      "{\n",
      "  \"id\": \"cmpl-7R4YjcS433drgUFXGQ5VjgbZ2sleY\",\n",
      "  \"object\": \"text_completion\",\n",
      "  \"created\": 1686686737,\n",
      "  \"model\": \"text-davinci-003\",\n",
      "  \"choices\": [\n",
      "    {\n",
      "      \"text\": \"\\n\\nI recently purchased an 18 inch LED desktop monitor and am very pleased with it. The screen clarity is superb and the colors are vibrant and realistic. Delivery was prompt and hassle-free, and the installation support was excellent. The pricing is reasonable, making it an affordable option for those looking for a reliable and high-performing monitor. I highly recommend it for its screen clarity, delivery, installation support, and pricing - all of which make for an excellent user experience.\",\n",
      "      \"index\": 0,\n",
      "      \"finish_reason\": \"stop\",\n",
      "      \"logprobs\": null\n",
      "    }\n",
      "  ],\n",
      "  \"usage\": {\n",
      "    \"completion_tokens\": 95,\n",
      "    \"prompt_tokens\": 222,\n",
      "    \"total_tokens\": 317\n",
      "  }\n",
      "}\n"
     ]
    }
   ],
   "source": [
    "# Challenge 3A\n",
    "\n",
    "response = openai.Completion.create(\n",
    "  engine=\"textdavinci003\",\n",
    "  prompt=\"Provide a summary of the text below and limit to 100 words.\\n\\nI recently purchased the 18 inch LED desktop monitor and I am extremely satisfied with my purchase. The screen clarity is exceptional and the colors are vibrant and true to life. The monitor is perfect for both work and entertainment purposes, as it provides a clear and crisp display for all types of content. The delivery of the monitor was prompt and hassle-free. The packaging was secure and protected the monitor from any damage during transit. The installation support provided by the manufacturer was also excellent. The instructions were clear and easy to follow, and I was able to set up the monitor in no time. The pricing of the monitor is also very reasonable, especially considering the high quality of the product. It is an affordable option for those who are looking for a reliable and high-performing monitor without breaking the bank. Overall, I would highly recommend the 18 inch LED desktop monitor to anyone in the market for a new monitor. The screen clarity, delivery, installation support, and pricing are all top-notch and make for an excellent user experience.\",\n",
    "  temperature=0.3,\n",
    "  max_tokens=400,\n",
    "  top_p=1,\n",
    "  frequency_penalty=0,\n",
    "  presence_penalty=0,\n",
    "  best_of=1,\n",
    "  stop=None)\n",
    "\n",
    "print(response)"
   ]
  },
  {
   "cell_type": "code",
   "execution_count": null,
   "metadata": {},
   "outputs": [],
   "source": [
    "# Challenge 1B\n",
    "\n",
    "response = openai.Completion.create(\n",
    "  engine=\"textdavinci003\",\n",
    "  prompt=\"Identify the emotions in the text below. Identify top 3 emotions only.\\n\\nI recently purchased the 18 inch Sony LED desktop monitor and I am extremely satisfied with my purchase. The screen clarity is exceptional and the colors are vibrant and true to life. The monitor is perfect for both work and entertainment purposes, as it provides a clear and crisp display for all types of content. The delivery of the monitor was prompt and hassle-free. The packaging was secure and protected the monitor from any damage during transit. The installation support provided by the manufacturer was also excellent. The instructions were clear and easy to follow, and I was able to set up the monitor in no time. The pricing of the monitor is also very reasonable, especially considering the high quality of the product. It is an affordable option for those who are looking for a reliable and high-performing monitor without breaking the bank. Overall, I would highly recommend the 18 inch LED desktop monitor to anyone in the market for a new monitor. The screen clarity, delivery, installation support, and pricing are all top-notch and make for an excellent user experience.\",\n",
    "  temperature=0.3,\n",
    "  max_tokens=400,\n",
    "  top_p=1,\n",
    "  frequency_penalty=0,\n",
    "  presence_penalty=0,\n",
    "  best_of=1,\n",
    "  stop=None)\n",
    "\n",
    "print(response)"
   ]
  },
  {
   "cell_type": "code",
   "execution_count": null,
   "metadata": {},
   "outputs": [],
   "source": [
    "# Challenge 2B\n",
    "\n",
    "response = openai.Completion.create(\n",
    "  engine=\"textdavinci003\",\n",
    "  prompt=\"Identify the emotions in the text below. Categorize the sentiment as Positive, Negative or Neutral.\\n\\nI recently purchased the 18 inch Sony LED desktop monitor and I am extremely satisfied with my purchase. The screen clarity is exceptional and the colors are vibrant and true to life. The monitor is perfect for both work and entertainment purposes, as it provides a clear and crisp display for all types of content. The delivery of the monitor was prompt and hassle-free. The packaging was secure and protected the monitor from any damage during transit. The installation support provided by the manufacturer was also excellent. The instructions were clear and easy to follow, and I was able to set up the monitor in no time. The pricing of the monitor is also very reasonable, especially considering the high quality of the product. It is an affordable option for those who are looking for a reliable and high-performing monitor without breaking the bank. Overall, I would highly recommend the 18 inch LED desktop monitor to anyone in the market for a new monitor. The screen clarity, delivery, installation support, and pricing are all top-notch and make for an excellent user experience.\",\n",
    "  temperature=0.3,\n",
    "  max_tokens=400,\n",
    "  top_p=1,\n",
    "  frequency_penalty=0,\n",
    "  presence_penalty=0,\n",
    "  best_of=1,\n",
    "  stop=None)\n",
    "\n",
    "print(response)"
   ]
  },
  {
   "cell_type": "code",
   "execution_count": null,
   "metadata": {},
   "outputs": [],
   "source": [
    "# Challenge 3B\n",
    "\n",
    "response = openai.Completion.create(\n",
    "  engine=\"textdavinci003\",\n",
    "  prompt=\"Identify the emotions in the text below. Categorize the sentiment as Positive, Negative or Neutral. Along with the sentiment, find out what product is being reviewed in the above text and which company has made this product.\\n\\nI recently purchased the 18 inch Sony LED desktop monitor and I am extremely satisfied with my purchase. The screen clarity is exceptional and the colors are vibrant and true to life. The monitor is perfect for both work and entertainment purposes, as it provides a clear and crisp display for all types of content. The delivery of the monitor was prompt and hassle-free. The packaging was secure and protected the monitor from any damage during transit. The installation support provided by the manufacturer was also excellent. The instructions were clear and easy to follow, and I was able to set up the monitor in no time. The pricing of the monitor is also very reasonable, especially considering the high quality of the product. It is an affordable option for those who are looking for a reliable and high-performing monitor without breaking the bank. Overall, I would highly recommend the 18 inch LED desktop monitor to anyone in the market for a new monitor. The screen clarity, delivery, installation support, and pricing are all top-notch and make for an excellent user experience.\",\n",
    "  temperature=0.3,\n",
    "  max_tokens=400,\n",
    "  top_p=1,\n",
    "  frequency_penalty=0,\n",
    "  presence_penalty=0,\n",
    "  best_of=1,\n",
    "  stop=None)\n",
    "\n",
    "print(response)"
   ]
  },
  {
   "cell_type": "code",
   "execution_count": null,
   "metadata": {},
   "outputs": [],
   "source": [
    "# Challenge 4B\n",
    "\n",
    "response = openai.Completion.create(\n",
    "  engine=\"textdavinci003\",\n",
    "  prompt=\"Identify the emotions in the text below. Categorize the sentiment as Positive, Negative or Neutral. Along with the sentiment, find out what product is being reviewed in the above text and which company has made this product.\\n\\nI recently purchased the 18 inch Sony LED desktop monitor and I am extremely satisfied with my purchase. The screen clarity is exceptional and the colors are vibrant and true to life. The monitor is perfect for both work and entertainment purposes, as it provides a clear and crisp display for all types of content. The delivery of the monitor was prompt and hassle-free. The packaging was secure and protected the monitor from any damage during transit. The installation support provided by the manufacturer was also excellent. The instructions were clear and easy to follow, and I was able to set up the monitor in no time. The pricing of the monitor is also very reasonable, especially considering the high quality of the product. It is an affordable option for those who are looking for a reliable and high-performing monitor without breaking the bank. Overall, I would highly recommend the 18 inch LED desktop monitor to anyone in the market for a new monitor. The screen clarity, delivery, installation support, and pricing are all top-notch and make for an excellent user experience.\",\n",
    "  temperature=0.3,\n",
    "  max_tokens=400,\n",
    "  top_p=1,\n",
    "  frequency_penalty=0,\n",
    "  presence_penalty=0,\n",
    "  best_of=1,\n",
    "  stop=None)\n",
    "\n",
    "print(response)"
   ]
  }
 ],
 "metadata": {
  "kernelspec": {
   "display_name": "Python 3",
   "language": "python",
   "name": "python3"
  },
  "language_info": {
   "codemirror_mode": {
    "name": "ipython",
    "version": 3
   },
   "file_extension": ".py",
   "mimetype": "text/x-python",
   "name": "python",
   "nbconvert_exporter": "python",
   "pygments_lexer": "ipython3",
   "version": "3.11.2"
  },
  "orig_nbformat": 4
 },
 "nbformat": 4,
 "nbformat_minor": 2
}
