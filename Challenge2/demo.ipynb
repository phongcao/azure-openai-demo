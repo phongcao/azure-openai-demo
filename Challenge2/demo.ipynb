{
 "cells": [
  {
   "cell_type": "code",
   "execution_count": 3,
   "metadata": {},
   "outputs": [
    {
     "name": "stdout",
     "output_type": "stream",
     "text": [
      "\n",
      "\n",
      "This 18 inch LED desktop monitor provides an exceptional viewing experience with its clear screen and vibrant colors. It is suitable for both work and entertainment purposes, and delivery was prompt and hassle-free. The packaging was secure and the installation instructions provided by the manufacturer were clear and easy to follow, allowing for a quick and successful setup.\n"
     ]
    }
   ],
   "source": [
    "# Challenge 1A\n",
    "import openai\n",
    "\n",
    "response = openai.Completion.create(\n",
    "    engine=\"testdavinci003\",\n",
    "    prompt=\"Provide a summary of the text below and focus on the technical details.\\n\\nI recently purchased the 18 inch LED desktop monitor and I am extremely satisfied with my purchase. The screen clarity is exceptional and the colors are vibrant and true to life. The monitor is perfect for both work and entertainment purposes, as it provides a clear and crisp display for all types of content. The delivery of the monitor was prompt and hassle-free. The packaging was secure and protected the monitor from any damage during transit. The installation support provided by the manufacturer was also excellent. The instructions were clear and easy to follow, and I was able to set up the monitor in no time.\",\n",
    "    temperature=0.3,\n",
    "    max_tokens=250,\n",
    "    top_p=1,\n",
    "    frequency_penalty=0,\n",
    "    presence_penalty=0,\n",
    "    best_of=1,\n",
    "    stop=None,\n",
    ")\n",
    "\n",
    "print(response.choices[0].text)"
   ]
  },
  {
   "cell_type": "code",
   "execution_count": 4,
   "metadata": {},
   "outputs": [
    {
     "name": "stdout",
     "output_type": "stream",
     "text": [
      "\n",
      "\n",
      "This text is about a customer's experience with the delivery and installation of an 18 inch LED desktop monitor. The customer was pleased with the screen clarity and colors of the monitor, as well as the prompt and hassle-free delivery. The packaging was secure and the installation instructions provided by the manufacturer were clear and easy to follow, allowing the customer to set up the monitor in no time.\n"
     ]
    }
   ],
   "source": [
    "# Challenge 2A\n",
    "\n",
    "response = openai.Completion.create(\n",
    "    engine=\"testdavinci003\",\n",
    "    prompt=\"Provide a summary of the text below and focus on the delivery experiences.\\n\\nI recently purchased the 18 inch LED desktop monitor and I am extremely satisfied with my purchase. The screen clarity is exceptional and the colors are vibrant and true to life. The monitor is perfect for both work and entertainment purposes, as it provides a clear and crisp display for all types of content. The delivery of the monitor was prompt and hassle-free. The packaging was secure and protected the monitor from any damage during transit. The installation support provided by the manufacturer was also excellent. The instructions were clear and easy to follow, and I was able to set up the monitor in no time.\",\n",
    "    temperature=0.3,\n",
    "    max_tokens=250,\n",
    "    top_p=1,\n",
    "    frequency_penalty=0,\n",
    "    presence_penalty=0,\n",
    "    best_of=1,\n",
    "    stop=None,\n",
    ")\n",
    "\n",
    "print(response.choices[0].text)"
   ]
  },
  {
   "cell_type": "code",
   "execution_count": 5,
   "metadata": {},
   "outputs": [
    {
     "name": "stdout",
     "output_type": "stream",
     "text": [
      "{\n",
      "  \"id\": \"cmpl-7TXpPJMPfmmFBf1CsucFGjYzVet1x\",\n",
      "  \"object\": \"text_completion\",\n",
      "  \"created\": 1687275903,\n",
      "  \"model\": \"text-davinci-003\",\n",
      "  \"choices\": [\n",
      "    {\n",
      "      \"text\": \"\\n\\nI recently purchased the 18 inch LED desktop monitor and am very pleased. The screen clarity is great and colors are vibrant. It is perfect for work and entertainment, and delivery was prompt and secure. Installation was easy with clear instructions, and the pricing is very reasonable. I highly recommend this monitor for anyone looking for a reliable and high-performing monitor without breaking the bank. The user experience is excellent due to the screen clarity, delivery, installation support, and pricing.\",\n",
      "      \"index\": 0,\n",
      "      \"finish_reason\": \"stop\",\n",
      "      \"logprobs\": null\n",
      "    }\n",
      "  ],\n",
      "  \"usage\": {\n",
      "    \"completion_tokens\": 95,\n",
      "    \"prompt_tokens\": 222,\n",
      "    \"total_tokens\": 317\n",
      "  }\n",
      "}\n"
     ]
    }
   ],
   "source": [
    "# Challenge 3A\n",
    "\n",
    "response = openai.Completion.create(\n",
    "    engine=\"testdavinci003\",\n",
    "    prompt=\"Provide a summary of the text below and limit to 100 words.\\n\\nI recently purchased the 18 inch LED desktop monitor and I am extremely satisfied with my purchase. The screen clarity is exceptional and the colors are vibrant and true to life. The monitor is perfect for both work and entertainment purposes, as it provides a clear and crisp display for all types of content. The delivery of the monitor was prompt and hassle-free. The packaging was secure and protected the monitor from any damage during transit. The installation support provided by the manufacturer was also excellent. The instructions were clear and easy to follow, and I was able to set up the monitor in no time. The pricing of the monitor is also very reasonable, especially considering the high quality of the product. It is an affordable option for those who are looking for a reliable and high-performing monitor without breaking the bank. Overall, I would highly recommend the 18 inch LED desktop monitor to anyone in the market for a new monitor. The screen clarity, delivery, installation support, and pricing are all top-notch and make for an excellent user experience.\",\n",
    "    temperature=0.3,\n",
    "    max_tokens=400,\n",
    "    top_p=1,\n",
    "    frequency_penalty=0,\n",
    "    presence_penalty=0,\n",
    "    best_of=1,\n",
    "    stop=None,\n",
    ")\n",
    "\n",
    "print(response)"
   ]
  },
  {
   "cell_type": "code",
   "execution_count": 6,
   "metadata": {},
   "outputs": [
    {
     "name": "stdout",
     "output_type": "stream",
     "text": [
      "\n",
      "\n",
      "1. Satisfaction \n",
      "2. Joy \n",
      "3. Relief\n"
     ]
    }
   ],
   "source": [
    "# Challenge 1B\n",
    "\n",
    "response = openai.Completion.create(\n",
    "    engine=\"testdavinci003\",\n",
    "    prompt=\"Identify the emotions in the text below. Identify top 3 emotions only.\\n\\nI recently purchased the 18 inch Sony LED desktop monitor and I am extremely satisfied with my purchase. The screen clarity is exceptional and the colors are vibrant and true to life. The monitor is perfect for both work and entertainment purposes, as it provides a clear and crisp display for all types of content. The delivery of the monitor was prompt and hassle-free. The packaging was secure and protected the monitor from any damage during transit. The installation support provided by the manufacturer was also excellent. The instructions were clear and easy to follow, and I was able to set up the monitor in no time. The pricing of the monitor is also very reasonable, especially considering the high quality of the product. It is an affordable option for those who are looking for a reliable and high-performing monitor without breaking the bank. Overall, I would highly recommend the 18 inch LED desktop monitor to anyone in the market for a new monitor. The screen clarity, delivery, installation support, and pricing are all top-notch and make for an excellent user experience.\",\n",
    "    temperature=0.3,\n",
    "    max_tokens=400,\n",
    "    top_p=1,\n",
    "    frequency_penalty=0,\n",
    "    presence_penalty=0,\n",
    "    best_of=1,\n",
    "    stop=None,\n",
    ")\n",
    "\n",
    "print(response.choices[0].text)"
   ]
  },
  {
   "cell_type": "code",
   "execution_count": 7,
   "metadata": {},
   "outputs": [
    {
     "name": "stdout",
     "output_type": "stream",
     "text": [
      "\n",
      "\n",
      "Positive\n"
     ]
    }
   ],
   "source": [
    "# Challenge 2B\n",
    "\n",
    "response = openai.Completion.create(\n",
    "    engine=\"testdavinci003\",\n",
    "    prompt=\"Identify the emotions in the text below. Categorize the sentiment as Positive, Negative or Neutral.\\n\\nI recently purchased the 18 inch Sony LED desktop monitor and I am extremely satisfied with my purchase. The screen clarity is exceptional and the colors are vibrant and true to life. The monitor is perfect for both work and entertainment purposes, as it provides a clear and crisp display for all types of content. The delivery of the monitor was prompt and hassle-free. The packaging was secure and protected the monitor from any damage during transit. The installation support provided by the manufacturer was also excellent. The instructions were clear and easy to follow, and I was able to set up the monitor in no time. The pricing of the monitor is also very reasonable, especially considering the high quality of the product. It is an affordable option for those who are looking for a reliable and high-performing monitor without breaking the bank. Overall, I would highly recommend the 18 inch LED desktop monitor to anyone in the market for a new monitor. The screen clarity, delivery, installation support, and pricing are all top-notch and make for an excellent user experience.\",\n",
    "    temperature=0.3,\n",
    "    max_tokens=400,\n",
    "    top_p=1,\n",
    "    frequency_penalty=0,\n",
    "    presence_penalty=0,\n",
    "    best_of=1,\n",
    "    stop=None,\n",
    ")\n",
    "\n",
    "print(response.choices[0].text)"
   ]
  },
  {
   "cell_type": "code",
   "execution_count": 8,
   "metadata": {},
   "outputs": [
    {
     "name": "stdout",
     "output_type": "stream",
     "text": [
      "\n",
      "\n",
      "Sentiment: Positive\n",
      "Product: 18 inch Sony LED desktop monitor\n",
      "Company: Sony\n"
     ]
    }
   ],
   "source": [
    "# Challenge 3B\n",
    "\n",
    "response = openai.Completion.create(\n",
    "    engine=\"testdavinci003\",\n",
    "    prompt=\"Identify the emotions in the text below. Categorize the sentiment as Positive, Negative or Neutral. Along with the sentiment, find out what product is being reviewed in the above text and which company has made this product.\\n\\nI recently purchased the 18 inch Sony LED desktop monitor and I am extremely satisfied with my purchase. The screen clarity is exceptional and the colors are vibrant and true to life. The monitor is perfect for both work and entertainment purposes, as it provides a clear and crisp display for all types of content. The delivery of the monitor was prompt and hassle-free. The packaging was secure and protected the monitor from any damage during transit. The installation support provided by the manufacturer was also excellent. The instructions were clear and easy to follow, and I was able to set up the monitor in no time. The pricing of the monitor is also very reasonable, especially considering the high quality of the product. It is an affordable option for those who are looking for a reliable and high-performing monitor without breaking the bank. Overall, I would highly recommend the 18 inch LED desktop monitor to anyone in the market for a new monitor. The screen clarity, delivery, installation support, and pricing are all top-notch and make for an excellent user experience.\",\n",
    "    temperature=0.3,\n",
    "    max_tokens=400,\n",
    "    top_p=1,\n",
    "    frequency_penalty=0,\n",
    "    presence_penalty=0,\n",
    "    best_of=1,\n",
    "    stop=None,\n",
    ")\n",
    "\n",
    "print(response.choices[0].text)"
   ]
  },
  {
   "cell_type": "code",
   "execution_count": 9,
   "metadata": {},
   "outputs": [
    {
     "name": "stdout",
     "output_type": "stream",
     "text": [
      "\n",
      "\n",
      "Topics: El Niño, Global Climate, Temperature, Precipitation, Global Heating\n",
      "\n",
      "Title: El Niño's Impact on Global Climate and Temperature\n"
     ]
    }
   ],
   "source": [
    "# Challenge 4B\n",
    "\n",
    "response = openai.Completion.create(\n",
    "    engine=\"testdavinci003\",\n",
    "    prompt=\"For the given text below find out what are the different topics in the below text, Topics should not contain more than 2 words. Print all topics as list of comma separated values. Also suggest a title for the below text.\\n\\nForecasters from the World Meteorological Organization are reporting increased chances that the global climate pattern known as El Niño will arrive by the end of summer. With it comes increased chances for hotter-than-normal temperatures in 2024. While there is not yet a clear picture of how strong the El Niño event will be or how long it might last, even a relatively mild one could affect precipitation and temperature patterns around the world. The development of an El Niño will most likely lead to a new spike in global heating and increase the chance of breaking temperature records, said Petteri Taalas, the secretary general of the meteorological organization, in a news release.\",\n",
    "    temperature=0.3,\n",
    "    max_tokens=400,\n",
    "    top_p=1,\n",
    "    frequency_penalty=0,\n",
    "    presence_penalty=0,\n",
    "    best_of=1,\n",
    "    stop=None,\n",
    ")\n",
    "\n",
    "print(response.choices[0].text)"
   ]
  },
  {
   "cell_type": "code",
   "execution_count": 10,
   "metadata": {},
   "outputs": [
    {
     "name": "stdout",
     "output_type": "stream",
     "text": [
      "\n",
      "\n",
      "Việt Nam: Hãy đảm bảo rằng trình duyệt của bạn cho phép cửa sổ pop-up và có thể giao tiếp với Postman để cung cấp các mã truy cập. Nếu mọi thứ hoạt động đúng cách, bạn có thể nhấp vào \"Tiến hành\" trong Postman để xem mã truy cập được trả về.\n",
      "\n",
      "中文：确保您的浏览器允许弹出窗口并且可以与Postman进行通信以提供访问令牌。如果一切正常，您可以在Postman中单击“继续”以查看返回的访问令牌。\n"
     ]
    }
   ],
   "source": [
    "# Challenge 1C\n",
    "\n",
    "response = openai.Completion.create(\n",
    "    engine=\"testdavinci003\",\n",
    "    prompt=\"Translate the text below to Vietnamese and Chinese.\\n\\nMake sure that your browser allows pop-up windows and can communicate with Postman to provide access tokens. If everything works properly, you can click on “Proceed” in Postman to see the returned access token.\",\n",
    "    temperature=0.3,\n",
    "    max_tokens=400,\n",
    "    top_p=1,\n",
    "    frequency_penalty=0,\n",
    "    presence_penalty=0,\n",
    "    best_of=1,\n",
    "    stop=None,\n",
    ")\n",
    "\n",
    "print(response.choices[0].text)"
   ]
  },
  {
   "cell_type": "code",
   "execution_count": 11,
   "metadata": {},
   "outputs": [
    {
     "name": "stdout",
     "output_type": "stream",
     "text": [
      "\n",
      "\n",
      "Vietnamese\n"
     ]
    }
   ],
   "source": [
    "# Challenge 2C\n",
    "\n",
    "response = openai.Completion.create(\n",
    "    engine=\"testdavinci003\",\n",
    "    prompt='Identify which language the text below is written in.\\n\\nH\\u00e3y ch\\u1eafc ch\\u1eafn r\\u1eb1ng tr\\u00ecnh duy\\u1ec7t c\\u1ee7a b\\u1ea1n cho ph\\u00e9p c\\u1eeda s\\u1ed5 pop-up v\\u00e0 c\\u00f3 th\\u1ec3 giao ti\\u1ebfp v\\u1edbi Postman \\u0111\\u1ec3 cung c\\u1ea5p c\\u00e1c m\\u00e3 truy c\\u1eadp. N\\u1ebfu m\\u1ecdi th\\u1ee9 ho\\u1ea1t \\u0111\\u1ed9ng \\u0111\\u00fang c\\u00e1ch, b\\u1ea1n c\\u00f3 th\\u1ec3 nh\\u1ea5p v\\u00e0o \"Ti\\u1ebfn h\\u00e0nh\" trong Postman \\u0111\\u1ec3 xem m\\u00e3 truy c\\u1eadp \\u0111\\u01b0\\u1ee3c tr\\u1ea3 v\\u1ec1.',\n",
    "    temperature=0.3,\n",
    "    max_tokens=400,\n",
    "    top_p=1,\n",
    "    frequency_penalty=0,\n",
    "    presence_penalty=0,\n",
    "    best_of=1,\n",
    "    stop=None,\n",
    ")\n",
    "\n",
    "print(response.choices[0].text)"
   ]
  },
  {
   "cell_type": "code",
   "execution_count": 12,
   "metadata": {},
   "outputs": [
    {
     "name": "stdout",
     "output_type": "stream",
     "text": [
      "\n",
      "\n",
      "1. That kid's really upset.\n",
      "2. He's a looker.\n",
      "3. I'm broke.\n",
      "4. That's really too bad.\n",
      "5. Nice to meet you.\n"
     ]
    }
   ],
   "source": [
    "# Challenge 3C - Part 1\n",
    "\n",
    "response = openai.Completion.create(\n",
    "    engine=\"testdavinci003\",\n",
    "    prompt=\"Convert the text below to informal tone.\\n\\n1. That child is distressed.\\n2. He’s an attractive man.\\n3. I’m short on funds.\\n4. That’s very unfortunate.\\n5. I’m pleased to meet you.\",\n",
    "    temperature=0.3,\n",
    "    max_tokens=400,\n",
    "    top_p=1,\n",
    "    frequency_penalty=0,\n",
    "    presence_penalty=0,\n",
    "    best_of=1,\n",
    "    stop=None,\n",
    ")\n",
    "\n",
    "print(response.choices[0].text)"
   ]
  },
  {
   "cell_type": "code",
   "execution_count": 13,
   "metadata": {},
   "outputs": [
    {
     "name": "stdout",
     "output_type": "stream",
     "text": [
      "\n",
      "\n",
      "1. The child appears to be in distress.\n",
      "2. He is a handsome man.\n",
      "3. I am financially constrained.\n",
      "4. It is highly regrettable.\n",
      "5. It is a pleasure to make your acquaintance.\n"
     ]
    }
   ],
   "source": [
    "# Challenge 3C - Part 2\n",
    "\n",
    "response = openai.Completion.create(\n",
    "    engine=\"testdavinci003\",\n",
    "    prompt=\"Convert the text below to formal tone.\\n\\n1. That child is distressed.\\n2. He’s an attractive man.\\n3. I’m short on funds.\\n4. That’s very unfortunate.\\n5. I’m pleased to meet you.\",\n",
    "    temperature=0.3,\n",
    "    max_tokens=400,\n",
    "    top_p=1,\n",
    "    frequency_penalty=0,\n",
    "    presence_penalty=0,\n",
    "    best_of=1,\n",
    "    stop=None,\n",
    ")\n",
    "\n",
    "print(response.choices[0].text)"
   ]
  },
  {
   "cell_type": "code",
   "execution_count": 14,
   "metadata": {},
   "outputs": [
    {
     "name": "stdout",
     "output_type": "stream",
     "text": [
      "\n",
      "\n",
      "Dear [Name],\n",
      "\n",
      "I hope this letter finds you in good health. I am writing to inquire about your plans for the weekend. I have some free time and I would like to come by and say hello. Afterward, I thought we could go somewhere to get a bite to eat together. I look forward to seeing you soon.\n",
      "\n",
      "Sincerely,\n",
      "[Your Name]\n"
     ]
    }
   ],
   "source": [
    "# Challenge 3D\n",
    "\n",
    "response = openai.Completion.create(\n",
    "    engine=\"testdavinci003\",\n",
    "    prompt=\"Convert the tone of the email below to a formal business letter.\\n\\nHey bro, how are you doing? I'm having time this weekend so wanna stop by and say hi. Whaddaya plan to do after? Thought we could go somewhere eating together. Cya!\",\n",
    "    temperature=0.3,\n",
    "    max_tokens=400,\n",
    "    top_p=1,\n",
    "    frequency_penalty=0,\n",
    "    presence_penalty=0,\n",
    "    best_of=1,\n",
    "    stop=None,\n",
    ")\n",
    "\n",
    "print(response.choices[0].text)"
   ]
  },
  {
   "cell_type": "code",
   "execution_count": 15,
   "metadata": {},
   "outputs": [
    {
     "name": "stdout",
     "output_type": "stream",
     "text": [
      "\n",
      "\n",
      "<h1>Product List</h1>\n",
      "<table>\n",
      "  <tr>\n",
      "    <th>ID</th>\n",
      "    <th>Name</th>\n",
      "    <th>Description</th>\n",
      "    <th>Category</th>\n",
      "  </tr>\n",
      "  <tr>\n",
      "    <td>1</td>\n",
      "    <td>Superhero Action Figure</td>\n",
      "    <td>Bring your favorite superhero to life with this highly detailed action figure. Perfect for collectors and kids alike.</td>\n",
      "    <td>Toys</td>\n",
      "  </tr>\n",
      "  <tr>\n",
      "    <td>2</td>\n",
      "    <td>Stainless Steel Kitchen Utensil Set</td>\n",
      "    <td>Upgrade your cooking game with this sleek and durable set of stainless steel utensils. Includes a variety of essential kitchen tools.</td>\n",
      "    <td>Utensils</td>\n",
      "  </tr>\n",
      "  <tr>\n",
      "    <td>3</td>\n",
      "    <td>Wireless Bluetooth Headphones</td>\n",
      "    <td>Experience high-quality sound and convenience with these wireless headphones. Perfect for workouts, commutes, and more.</td>\n",
      "    <td>Electronics</td>\n",
      "  </tr>\n",
      "  <tr>\n",
      "    <td>4</td>\n",
      "    <td>Striped Cotton T-Shirt</td>\n",
      "    <td>Stay comfortable and stylish in this classic cotton t-shirt. Features a timeless striped pattern and a relaxed fit.</td>\n",
      "    <td>Apparel</td>\n",
      "  </tr>\n",
      "  <tr>\n",
      "    <td>5</td>\n",
      "    <td>Non-Stick Ceramic Cookware Set</td>\n",
      "    <td>Upgrade your kitchen with this premium set of non-stick ceramic cookware. Includes pots, pans, and lids for all your cooking needs.</td>\n",
      "    <td>Utensils</td>\n",
      "  </tr>\n",
      "</table>\n"
     ]
    }
   ],
   "source": [
    "# Challenge 3E\n",
    "\n",
    "response = openai.Completion.create(\n",
    "    engine=\"testdavinci003\",\n",
    "    prompt='Convert the JSON string below to HTML table with column header and title.\\n\\n{\"products\":[{\"id\":1,\"name\":\"Superhero Action Figure\",\"description\":\"Bring your favorite superhero to life with this highly detailed action figure. Perfect for collectors and kids alike.\",\"category\":\"toys\"},{\"id\":2,\"name\":\"Stainless Steel Kitchen Utensil Set\",\"description\":\"Upgrade your cooking game with this sleek and durable set of stainless steel utensils. Includes a variety of essential kitchen tools.\",\"category\":\"utensils\"},{\"id\":3,\"name\":\"Wireless Bluetooth Headphones\",\"description\":\"Experience high-quality sound and convenience with these wireless headphones. Perfect for workouts, commutes, and more.\",\"category\":\"electronics\"},{\"id\":4,\"name\":\"Striped Cotton T-Shirt\",\"description\":\"Stay comfortable and stylish in this classic cotton t-shirt. Features a timeless striped pattern and a relaxed fit.\",\"category\":\"apparel\"},{\"id\":5,\"name\":\"Non-Stick Ceramic Cookware Set\",\"description\":\"Upgrade your kitchen with this premium set of non-stick ceramic cookware. Includes pots, pans, and lids for all your cooking needs.\",\"category\":\"utensils\"}]}',\n",
    "    temperature=0.3,\n",
    "    max_tokens=1000,\n",
    "    top_p=1,\n",
    "    frequency_penalty=0,\n",
    "    presence_penalty=0,\n",
    "    best_of=1,\n",
    "    stop=None,\n",
    ")\n",
    "\n",
    "print(response.choices[0].text)"
   ]
  },
  {
   "cell_type": "code",
   "execution_count": 16,
   "metadata": {},
   "outputs": [
    {
     "name": "stdout",
     "output_type": "stream",
     "text": [
      "\n",
      "\n",
      "Due to the removal of this code in 1.20, it is required to have mTLS enabled so that the worker service can authorize itself via the internal-frontend service. For all sample code in this article, we will use Temporal 1.19. If you want to learn about how to set up mTLS for Temporal, check out this post from my colleague.\n"
     ]
    }
   ],
   "source": [
    "# Challenge 3F\n",
    "\n",
    "response = openai.Completion.create(\n",
    "    engine=\"testdavinci003\",\n",
    "    prompt=\"Proof read the paragraph below and generate a corrected version if needed.\\n\\nDue to the remove of this code in 1.20, its is required to have mTLS enabled so that the worker service can authorizes itself via the internal-frontend service. For all sample code in this article, we will use Temporal 1.19. If you want to learn about how to set up mTLS for Temporal, check out this post from my colleague.\",\n",
    "    temperature=0.3,\n",
    "    max_tokens=1000,\n",
    "    top_p=1,\n",
    "    frequency_penalty=0,\n",
    "    presence_penalty=0,\n",
    "    best_of=1,\n",
    "    stop=None,\n",
    ")\n",
    "\n",
    "print(response.choices[0].text)"
   ]
  },
  {
   "cell_type": "code",
   "execution_count": 17,
   "metadata": {},
   "outputs": [
    {
     "name": "stdout",
     "output_type": "stream",
     "text": [
      "\n",
      "\n",
      "Dear [Name],\n",
      "\n",
      "Thank you for taking the time to provide us with your feedback. We apologize for the negative experience you had with our product. We understand how frustrating it can be when something does not work as expected.\n",
      "\n",
      "We value your feedback and take it seriously. If you would like to discuss your experience further, please reach out to our customer service team. They are available to help you with any questions or concerns you may have.\n",
      "\n",
      "We hope you have a better experience with our product in the future.\n",
      "\n",
      "Sincerely,\n",
      "Customer Service AI\n"
     ]
    }
   ],
   "source": [
    "# Generating or expanding text - Part 1\n",
    "\n",
    "response = openai.Completion.create(\n",
    "    engine=\"testdavinci003\",\n",
    "    prompt=\"You are a customer service AI assistant. Your job is generating a response email to customers. You can check the sentiment if it is positive, negative or neutral. If it's a positive or neutral review, express gratitude and tell customer that we please to serve them. Otherwise, apologize for negative review and suggest reaching out to customer service. At the end of the email, sign off as 'Customer service AI'\\n\\nI was searching for a product to cover some fading in my 2009 Honda Civic. I also had a couple spots where the clear coat was coming off. Just small spots. I searched the options and chose this product because of the great reviews. In addition, I bought the application foams pads that were recommended. The instructions were fairly simple and I followed them exactly as instructed. After seeing no results, I tried a second time. The only difference I saw after both attempts was that the faded spots were much more visible. Instead of covering the spots, it highlighted them. The small spots where the clear coat was coming up grew larger. The day after applying the compound, there were residual marks all over, even after wiping off with a microfiber towel many times. This product did not work for me at all even though I followed the directions precisely. Afterwards I read more reviews. I experienced the same situation as others who gave a 1 or 2 star review. I did read that some tried it on their headlights. I will try it as I have a good deal of product left. I will test it on a very small section first though so as not to damage more of my car.\",\n",
    "    temperature=0.3,\n",
    "    max_tokens=1000,\n",
    "    top_p=1,\n",
    "    frequency_penalty=0,\n",
    "    presence_penalty=0,\n",
    "    best_of=1,\n",
    "    stop=None,\n",
    ")\n",
    "\n",
    "print(response.choices[0].text)"
   ]
  },
  {
   "cell_type": "code",
   "execution_count": 18,
   "metadata": {},
   "outputs": [
    {
     "name": "stdout",
     "output_type": "stream",
     "text": [
      "\n",
      "\n",
      "Dear [Name],\n",
      "\n",
      "Thank you for your positive review! We are so pleased to hear that our product was able to help you with your car detailing needs. We strive to provide the best products and services to our customers, and we are glad that we were able to meet your expectations.\n",
      "\n",
      "Thank you for your support and for taking the time to share your experience. We look forward to continuing to serve you in the future.\n",
      "\n",
      "Sincerely,\n",
      "\n",
      "Customer Service AI\n"
     ]
    }
   ],
   "source": [
    "# Generating or expanding text - Part 2\n",
    "\n",
    "response = openai.Completion.create(\n",
    "    engine=\"testdavinci003\",\n",
    "    prompt=\"You are a customer service AI assistant. Your job is generating a response email to customers. You can check the sentiment if it is positive, negative or neutral. If it's a positive or neutral review, express gratitude and tell customer that we please to serve them. Otherwise, apologize for negative review and suggest reaching out to customer service. At the end of the email, sign off as 'Customer service AI'\\n\\nAfter an unfortunate meeting with a parking lot column, I thought I was looking at a hefty detailing bill. However, this compound (plus, car wash, elbow grease and polish) really turned it around. Now it is only visible with a close inspection and leaving me happy to wait until much later in the car’s lifespan for a more professional restoration. I am really happy with this purchase and can whole heartedly recommend.\",\n",
    "    temperature=0.3,\n",
    "    max_tokens=1000,\n",
    "    top_p=1,\n",
    "    frequency_penalty=0,\n",
    "    presence_penalty=0,\n",
    "    best_of=1,\n",
    "    stop=None,\n",
    ")\n",
    "\n",
    "print(response.choices[0].text)"
   ]
  }
 ],
 "metadata": {
  "kernelspec": {
   "display_name": "Python 3",
   "language": "python",
   "name": "python3"
  },
  "language_info": {
   "codemirror_mode": {
    "name": "ipython",
    "version": 3
   },
   "file_extension": ".py",
   "mimetype": "text/x-python",
   "name": "python",
   "nbconvert_exporter": "python",
   "pygments_lexer": "ipython3",
   "version": "3.9.6"
  },
  "orig_nbformat": 4
 },
 "nbformat": 4,
 "nbformat_minor": 2
}
