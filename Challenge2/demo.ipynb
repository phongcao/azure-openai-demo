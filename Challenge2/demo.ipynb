{
 "cells": [
  {
   "cell_type": "code",
   "execution_count": null,
   "metadata": {},
   "outputs": [],
   "source": [
    "# Note: The openai-python library support for Azure OpenAI is in preview.\n",
    "\n",
    "import os\n",
    "import openai\n",
    "\n",
    "openai.api_type = \"azure\"\n",
    "openai.api_base = os.getenv(\"OPENAI_API_ENDPOINT\")\n",
    "openai.api_version = \"2022-12-01\"\n",
    "openai.api_key = os.getenv(\"OPENAI_API_KEY\")"
   ]
  },
  {
   "cell_type": "code",
   "execution_count": null,
   "metadata": {},
   "outputs": [],
   "source": [
    "# Challenge 1A\n",
    "\n",
    "response = openai.Completion.create(\n",
    "  engine=\"textdavinci003\",\n",
    "  prompt=\"Provide a summary of the text below and focus on the technical details.\\n\\nI recently purchased the 18 inch LED desktop monitor and I am extremely satisfied with my purchase. The screen clarity is exceptional and the colors are vibrant and true to life. The monitor is perfect for both work and entertainment purposes, as it provides a clear and crisp display for all types of content. The delivery of the monitor was prompt and hassle-free. The packaging was secure and protected the monitor from any damage during transit. The installation support provided by the manufacturer was also excellent. The instructions were clear and easy to follow, and I was able to set up the monitor in no time.\",\n",
    "  temperature=0.3,\n",
    "  max_tokens=250,\n",
    "  top_p=1,\n",
    "  frequency_penalty=0,\n",
    "  presence_penalty=0,\n",
    "  best_of=1,\n",
    "  stop=None)\n",
    "\n",
    "print(response.choices[0].text)"
   ]
  },
  {
   "cell_type": "code",
   "execution_count": null,
   "metadata": {},
   "outputs": [],
   "source": [
    "# Challenge 2A\n",
    "\n",
    "response = openai.Completion.create(\n",
    "  engine=\"textdavinci003\",\n",
    "  prompt=\"Provide a summary of the text below and focus on the delivery experiences.\\n\\nI recently purchased the 18 inch LED desktop monitor and I am extremely satisfied with my purchase. The screen clarity is exceptional and the colors are vibrant and true to life. The monitor is perfect for both work and entertainment purposes, as it provides a clear and crisp display for all types of content. The delivery of the monitor was prompt and hassle-free. The packaging was secure and protected the monitor from any damage during transit. The installation support provided by the manufacturer was also excellent. The instructions were clear and easy to follow, and I was able to set up the monitor in no time.\",\n",
    "  temperature=0.3,\n",
    "  max_tokens=250,\n",
    "  top_p=1,\n",
    "  frequency_penalty=0,\n",
    "  presence_penalty=0,\n",
    "  best_of=1,\n",
    "  stop=None)\n",
    "\n",
    "print(response.choices[0].text)"
   ]
  },
  {
   "cell_type": "code",
   "execution_count": null,
   "metadata": {},
   "outputs": [],
   "source": [
    "# Challenge 3A\n",
    "\n",
    "response = openai.Completion.create(\n",
    "  engine=\"textdavinci003\",\n",
    "  prompt=\"Provide a summary of the text below and limit to 100 words.\\n\\nI recently purchased the 18 inch LED desktop monitor and I am extremely satisfied with my purchase. The screen clarity is exceptional and the colors are vibrant and true to life. The monitor is perfect for both work and entertainment purposes, as it provides a clear and crisp display for all types of content. The delivery of the monitor was prompt and hassle-free. The packaging was secure and protected the monitor from any damage during transit. The installation support provided by the manufacturer was also excellent. The instructions were clear and easy to follow, and I was able to set up the monitor in no time. The pricing of the monitor is also very reasonable, especially considering the high quality of the product. It is an affordable option for those who are looking for a reliable and high-performing monitor without breaking the bank. Overall, I would highly recommend the 18 inch LED desktop monitor to anyone in the market for a new monitor. The screen clarity, delivery, installation support, and pricing are all top-notch and make for an excellent user experience.\",\n",
    "  temperature=0.3,\n",
    "  max_tokens=400,\n",
    "  top_p=1,\n",
    "  frequency_penalty=0,\n",
    "  presence_penalty=0,\n",
    "  best_of=1,\n",
    "  stop=None)\n",
    "\n",
    "print(response)"
   ]
  },
  {
   "cell_type": "code",
   "execution_count": null,
   "metadata": {},
   "outputs": [],
   "source": [
    "# Challenge 1B\n",
    "\n",
    "response = openai.Completion.create(\n",
    "  engine=\"textdavinci003\",\n",
    "  prompt=\"Identify the emotions in the text below. Identify top 3 emotions only.\\n\\nI recently purchased the 18 inch Sony LED desktop monitor and I am extremely satisfied with my purchase. The screen clarity is exceptional and the colors are vibrant and true to life. The monitor is perfect for both work and entertainment purposes, as it provides a clear and crisp display for all types of content. The delivery of the monitor was prompt and hassle-free. The packaging was secure and protected the monitor from any damage during transit. The installation support provided by the manufacturer was also excellent. The instructions were clear and easy to follow, and I was able to set up the monitor in no time. The pricing of the monitor is also very reasonable, especially considering the high quality of the product. It is an affordable option for those who are looking for a reliable and high-performing monitor without breaking the bank. Overall, I would highly recommend the 18 inch LED desktop monitor to anyone in the market for a new monitor. The screen clarity, delivery, installation support, and pricing are all top-notch and make for an excellent user experience.\",\n",
    "  temperature=0.3,\n",
    "  max_tokens=400,\n",
    "  top_p=1,\n",
    "  frequency_penalty=0,\n",
    "  presence_penalty=0,\n",
    "  best_of=1,\n",
    "  stop=None)\n",
    "\n",
    "print(response)"
   ]
  },
  {
   "cell_type": "code",
   "execution_count": null,
   "metadata": {},
   "outputs": [],
   "source": [
    "# Challenge 2B\n",
    "\n",
    "response = openai.Completion.create(\n",
    "  engine=\"textdavinci003\",\n",
    "  prompt=\"Identify the emotions in the text below. Categorize the sentiment as Positive, Negative or Neutral.\\n\\nI recently purchased the 18 inch Sony LED desktop monitor and I am extremely satisfied with my purchase. The screen clarity is exceptional and the colors are vibrant and true to life. The monitor is perfect for both work and entertainment purposes, as it provides a clear and crisp display for all types of content. The delivery of the monitor was prompt and hassle-free. The packaging was secure and protected the monitor from any damage during transit. The installation support provided by the manufacturer was also excellent. The instructions were clear and easy to follow, and I was able to set up the monitor in no time. The pricing of the monitor is also very reasonable, especially considering the high quality of the product. It is an affordable option for those who are looking for a reliable and high-performing monitor without breaking the bank. Overall, I would highly recommend the 18 inch LED desktop monitor to anyone in the market for a new monitor. The screen clarity, delivery, installation support, and pricing are all top-notch and make for an excellent user experience.\",\n",
    "  temperature=0.3,\n",
    "  max_tokens=400,\n",
    "  top_p=1,\n",
    "  frequency_penalty=0,\n",
    "  presence_penalty=0,\n",
    "  best_of=1,\n",
    "  stop=None)\n",
    "\n",
    "print(response)"
   ]
  },
  {
   "cell_type": "code",
   "execution_count": null,
   "metadata": {},
   "outputs": [],
   "source": [
    "# Challenge 3B\n",
    "\n",
    "response = openai.Completion.create(\n",
    "  engine=\"textdavinci003\",\n",
    "  prompt=\"Identify the emotions in the text below. Categorize the sentiment as Positive, Negative or Neutral. Along with the sentiment, find out what product is being reviewed in the above text and which company has made this product.\\n\\nI recently purchased the 18 inch Sony LED desktop monitor and I am extremely satisfied with my purchase. The screen clarity is exceptional and the colors are vibrant and true to life. The monitor is perfect for both work and entertainment purposes, as it provides a clear and crisp display for all types of content. The delivery of the monitor was prompt and hassle-free. The packaging was secure and protected the monitor from any damage during transit. The installation support provided by the manufacturer was also excellent. The instructions were clear and easy to follow, and I was able to set up the monitor in no time. The pricing of the monitor is also very reasonable, especially considering the high quality of the product. It is an affordable option for those who are looking for a reliable and high-performing monitor without breaking the bank. Overall, I would highly recommend the 18 inch LED desktop monitor to anyone in the market for a new monitor. The screen clarity, delivery, installation support, and pricing are all top-notch and make for an excellent user experience.\",\n",
    "  temperature=0.3,\n",
    "  max_tokens=400,\n",
    "  top_p=1,\n",
    "  frequency_penalty=0,\n",
    "  presence_penalty=0,\n",
    "  best_of=1,\n",
    "  stop=None)\n",
    "\n",
    "print(response)"
   ]
  },
  {
   "cell_type": "code",
   "execution_count": null,
   "metadata": {},
   "outputs": [],
   "source": [
    "# Challenge 4B\n",
    "\n",
    "response = openai.Completion.create(\n",
    "  engine=\"textdavinci003\",\n",
    "  prompt=\"Identify the emotions in the text below. Categorize the sentiment as Positive, Negative or Neutral. Along with the sentiment, find out what product is being reviewed in the above text and which company has made this product.\\n\\nI recently purchased the 18 inch Sony LED desktop monitor and I am extremely satisfied with my purchase. The screen clarity is exceptional and the colors are vibrant and true to life. The monitor is perfect for both work and entertainment purposes, as it provides a clear and crisp display for all types of content. The delivery of the monitor was prompt and hassle-free. The packaging was secure and protected the monitor from any damage during transit. The installation support provided by the manufacturer was also excellent. The instructions were clear and easy to follow, and I was able to set up the monitor in no time. The pricing of the monitor is also very reasonable, especially considering the high quality of the product. It is an affordable option for those who are looking for a reliable and high-performing monitor without breaking the bank. Overall, I would highly recommend the 18 inch LED desktop monitor to anyone in the market for a new monitor. The screen clarity, delivery, installation support, and pricing are all top-notch and make for an excellent user experience.\",\n",
    "  temperature=0.3,\n",
    "  max_tokens=400,\n",
    "  top_p=1,\n",
    "  frequency_penalty=0,\n",
    "  presence_penalty=0,\n",
    "  best_of=1,\n",
    "  stop=None)\n",
    "\n",
    "print(response)"
   ]
  },
  {
   "cell_type": "code",
   "execution_count": null,
   "metadata": {},
   "outputs": [],
   "source": [
    "# Challenge 1C\n",
    "\n",
    "response = openai.Completion.create(\n",
    "  engine=\"textdavinci003\",\n",
    "  prompt=\"Translate the text below to Vietnamese and Chinese.\\n\\nMake sure that your browser allows pop-up windows and can communicate with Postman to provide access tokens. If everything works properly, you can click on “Proceed” in Postman to see the returned access token.\",\n",
    "  temperature=0.3,\n",
    "  max_tokens=400,\n",
    "  top_p=1,\n",
    "  frequency_penalty=0,\n",
    "  presence_penalty=0,\n",
    "  best_of=1,\n",
    "  stop=None)\n",
    "\n",
    "print(response)"
   ]
  },
  {
   "cell_type": "code",
   "execution_count": null,
   "metadata": {},
   "outputs": [],
   "source": [
    "# Challenge 2C\n",
    "\n",
    "response = openai.Completion.create(\n",
    "  engine=\"textdavinci003\",\n",
    "  prompt=\"Identify which language the text below is written in.\\n\\nH\\u00e3y ch\\u1eafc ch\\u1eafn r\\u1eb1ng tr\\u00ecnh duy\\u1ec7t c\\u1ee7a b\\u1ea1n cho ph\\u00e9p c\\u1eeda s\\u1ed5 pop-up v\\u00e0 c\\u00f3 th\\u1ec3 giao ti\\u1ebfp v\\u1edbi Postman \\u0111\\u1ec3 cung c\\u1ea5p c\\u00e1c m\\u00e3 truy c\\u1eadp. N\\u1ebfu m\\u1ecdi th\\u1ee9 ho\\u1ea1t \\u0111\\u1ed9ng \\u0111\\u00fang c\\u00e1ch, b\\u1ea1n c\\u00f3 th\\u1ec3 nh\\u1ea5p v\\u00e0o \\\"Ti\\u1ebfn h\\u00e0nh\\\" trong Postman \\u0111\\u1ec3 xem m\\u00e3 truy c\\u1eadp \\u0111\\u01b0\\u1ee3c tr\\u1ea3 v\\u1ec1.\",\n",
    "  temperature=0.3,\n",
    "  max_tokens=400,\n",
    "  top_p=1,\n",
    "  frequency_penalty=0,\n",
    "  presence_penalty=0,\n",
    "  best_of=1,\n",
    "  stop=None)\n",
    "\n",
    "print(response)"
   ]
  },
  {
   "cell_type": "code",
   "execution_count": null,
   "metadata": {},
   "outputs": [],
   "source": [
    "# Challenge 3C - Part 1\n",
    "\n",
    "response = openai.Completion.create(\n",
    "  engine=\"textdavinci003\",\n",
    "  prompt=\"Convert the text below to informal tone.\\n\\n1. That child is distressed.\\n2. He’s an attractive man.\\n3. I’m short on funds.\\n4. That’s very unfortunate.\\n5. I’m pleased to meet you.\",\n",
    "  temperature=0.3,\n",
    "  max_tokens=400,\n",
    "  top_p=1,\n",
    "  frequency_penalty=0,\n",
    "  presence_penalty=0,\n",
    "  best_of=1,\n",
    "  stop=None)\n",
    "\n",
    "print(response)"
   ]
  },
  {
   "cell_type": "code",
   "execution_count": null,
   "metadata": {},
   "outputs": [],
   "source": [
    "# Challenge 3C - Part 2\n",
    "\n",
    "response = openai.Completion.create(\n",
    "  engine=\"textdavinci003\",\n",
    "  prompt=\"Convert the text below to formal tone.\\n\\n1. That child is distressed.\\n2. He’s an attractive man.\\n3. I’m short on funds.\\n4. That’s very unfortunate.\\n5. I’m pleased to meet you.\",\n",
    "  temperature=0.3,\n",
    "  max_tokens=400,\n",
    "  top_p=1,\n",
    "  frequency_penalty=0,\n",
    "  presence_penalty=0,\n",
    "  best_of=1,\n",
    "  stop=None)\n",
    "\n",
    "print(response)"
   ]
  },
  {
   "cell_type": "code",
   "execution_count": null,
   "metadata": {},
   "outputs": [],
   "source": [
    "# Challenge 3D\n",
    "\n",
    "response = openai.Completion.create(\n",
    "  engine=\"textdavinci003\",\n",
    "  prompt=\"Convert the tone of the email below to a formal business letter.\\n\\nHey bro, how are you doing? I'm having time this weekend so wanna stop by and say hi. Whaddaya plan to do after? Thought we could go somewhere eating together. Cya!\",\n",
    "  temperature=0.3,\n",
    "  max_tokens=400,\n",
    "  top_p=1,\n",
    "  frequency_penalty=0,\n",
    "  presence_penalty=0,\n",
    "  best_of=1,\n",
    "  stop=None)\n",
    "\n",
    "print(response.choices[0].text)"
   ]
  },
  {
   "cell_type": "code",
   "execution_count": null,
   "metadata": {},
   "outputs": [],
   "source": [
    "# Challenge 3E\n",
    "\n",
    "response = openai.Completion.create(\n",
    "  engine=\"textdavinci003\",\n",
    "  prompt='Convert the JSON string below to HTML table with column header and title.\\n\\n{\"products\":[{\"id\":1,\"name\":\"Superhero Action Figure\",\"description\":\"Bring your favorite superhero to life with this highly detailed action figure. Perfect for collectors and kids alike.\",\"category\":\"toys\"},{\"id\":2,\"name\":\"Stainless Steel Kitchen Utensil Set\",\"description\":\"Upgrade your cooking game with this sleek and durable set of stainless steel utensils. Includes a variety of essential kitchen tools.\",\"category\":\"utensils\"},{\"id\":3,\"name\":\"Wireless Bluetooth Headphones\",\"description\":\"Experience high-quality sound and convenience with these wireless headphones. Perfect for workouts, commutes, and more.\",\"category\":\"electronics\"},{\"id\":4,\"name\":\"Striped Cotton T-Shirt\",\"description\":\"Stay comfortable and stylish in this classic cotton t-shirt. Features a timeless striped pattern and a relaxed fit.\",\"category\":\"apparel\"},{\"id\":5,\"name\":\"Non-Stick Ceramic Cookware Set\",\"description\":\"Upgrade your kitchen with this premium set of non-stick ceramic cookware. Includes pots, pans, and lids for all your cooking needs.\",\"category\":\"utensils\"}]}',\n",
    "  temperature=0.3,\n",
    "  max_tokens=1000,\n",
    "  top_p=1,\n",
    "  frequency_penalty=0,\n",
    "  presence_penalty=0,\n",
    "  best_of=1,\n",
    "  stop=None)\n",
    "\n",
    "print(response.choices[0].text)"
   ]
  },
  {
   "cell_type": "code",
   "execution_count": null,
   "metadata": {},
   "outputs": [],
   "source": [
    "# Challenge 3F\n",
    "\n",
    "response = openai.Completion.create(\n",
    "  engine=\"textdavinci003\",\n",
    "  prompt=\"Proof read the paragraph below and generate a corrected version if needed.\\n\\nDue to the remove of this code in 1.20, its is required to have mTLS enabled so that the worker service can authorizes itself via the internal-frontend service. For all sample code in this article, we will use Temporal 1.19. If you want to learn about how to set up mTLS for Temporal, check out this post from my colleague.\",\n",
    "  temperature=0.3,\n",
    "  max_tokens=1000,\n",
    "  top_p=1,\n",
    "  frequency_penalty=0,\n",
    "  presence_penalty=0,\n",
    "  best_of=1,\n",
    "  stop=None)\n",
    "\n",
    "print(response.choices[0].text)"
   ]
  },
  {
   "cell_type": "code",
   "execution_count": null,
   "metadata": {},
   "outputs": [],
   "source": [
    "# Generating or expanding text - Part 1\n",
    "\n",
    "response = openai.Completion.create(\n",
    "  engine=\"textdavinci003\",\n",
    "  prompt=\"You are a customer service AI assistant. Your job is generating a response email to customers. You can check the sentiment if it is positive, negative or neutral. If it's a positive or neutral review, express gratitude and tell customer that we please to serve them. Otherwise, apologize for negative review and suggest reaching out to customer service. At the end of the email, sign off as 'Customer service AI'\\n\\nI was searching for a product to cover some fading in my 2009 Honda Civic. I also had a couple spots where the clear coat was coming off. Just small spots. I searched the options and chose this product because of the great reviews. In addition, I bought the application foams pads that were recommended. The instructions were fairly simple and I followed them exactly as instructed. After seeing no results, I tried a second time. The only difference I saw after both attempts was that the faded spots were much more visible. Instead of covering the spots, it highlighted them. The small spots where the clear coat was coming up grew larger. The day after applying the compound, there were residual marks all over, even after wiping off with a microfiber towel many times. This product did not work for me at all even though I followed the directions precisely. Afterwards I read more reviews. I experienced the same situation as others who gave a 1 or 2 star review. I did read that some tried it on their headlights. I will try it as I have a good deal of product left. I will test it on a very small section first though so as not to damage more of my car.\",\n",
    "  temperature=0.3,\n",
    "  max_tokens=1000,\n",
    "  top_p=1,\n",
    "  frequency_penalty=0,\n",
    "  presence_penalty=0,\n",
    "  best_of=1,\n",
    "  stop=None)\n",
    "\n",
    "print(response.choices[0].text)"
   ]
  },
  {
   "cell_type": "code",
   "execution_count": null,
   "metadata": {},
   "outputs": [],
   "source": [
    "# Generating or expanding text - Part 2\n",
    "\n",
    "response = openai.Completion.create(\n",
    "  engine=\"textdavinci003\",\n",
    "  prompt=\"You are a customer service AI assistant. Your job is generating a response email to customers. You can check the sentiment if it is positive, negative or neutral. If it's a positive or neutral review, express gratitude and tell customer that we please to serve them. Otherwise, apologize for negative review and suggest reaching out to customer service. At the end of the email, sign off as 'Customer service AI'\\n\\nAfter an unfortunate meeting with a parking lot column, I thought I was looking at a hefty detailing bill. However, this compound (plus, car wash, elbow grease and polish) really turned it around. Now it is only visible with a close inspection and leaving me happy to wait until much later in the car’s lifespan for a more professional restoration. I am really happy with this purchase and can whole heartedly recommend.\",\n",
    "  temperature=0.3,\n",
    "  max_tokens=1000,\n",
    "  top_p=1,\n",
    "  frequency_penalty=0,\n",
    "  presence_penalty=0,\n",
    "  best_of=1,\n",
    "  stop=None)\n",
    "\n",
    "print(response.choices[0].text)"
   ]
  }
 ],
 "metadata": {
  "kernelspec": {
   "display_name": "Python 3",
   "language": "python",
   "name": "python3"
  },
  "language_info": {
   "codemirror_mode": {
    "name": "ipython",
    "version": 3
   },
   "file_extension": ".py",
   "mimetype": "text/x-python",
   "name": "python",
   "nbconvert_exporter": "python",
   "pygments_lexer": "ipython3",
   "version": "3.11.2"
  },
  "orig_nbformat": 4
 },
 "nbformat": 4,
 "nbformat_minor": 2
}
